{
 "cells": [
  {
   "cell_type": "code",
   "execution_count": 1,
   "metadata": {},
   "outputs": [],
   "source": [
    "import datetime\n",
    "import hashlib\n",
    "\n",
    "class Block:\n",
    "    def __init__(self,previous_block_hass, transaction, timestamp):\n",
    "        self.previous_block_hass=previous_block_hass\n",
    "        self.transaction=transaction\n",
    "        self.timestamp=timestamp\n",
    "        self.hash=self.get_hass()\n",
    "    \n",
    "    @staticmethod\n",
    "    def creat_gensis_block():\n",
    "        return Block('0','0',datetime.datetime.now())\n",
    "    \n",
    "    def get_hass(self):\n",
    "        header_bin=str(self.previous_block_hass)+str(self.transaction)+str(self.timestamp)\n",
    "        out_hass=hashlib.sha256(header_bin.encode()).hexdigest()\n",
    "        \n",
    "        return out_hass"
   ]
  },
  {
   "cell_type": "code",
   "execution_count": 2,
   "metadata": {},
   "outputs": [
    {
     "name": "stdout",
     "output_type": "stream",
     "text": [
      "区块1 已经创建，交易是张三给李四了1个比特币\n",
      "区块的哈希是： 855ba2c41aa662e4665dd7f7d8b515d35063acf70c6c7f49f33fe23dc2f7b80a\n",
      "区块2 已经创建，交易是张三给李四了2个比特币\n",
      "区块的哈希是： 071cb701f2b2f20b79d3c8146e40c9bd32c159aa4225d1d4926ac4fa587e649d\n",
      "区块3 已经创建，交易是张三给李四了3个比特币\n",
      "区块的哈希是： 2ee23fba5a237e99e33e2f55c6dfd6d739fe1c4a12784ae520849668bffbeb92\n",
      "区块4 已经创建，交易是张三给李四了4个比特币\n",
      "区块的哈希是： b9a0b97a31e5d235cfd64d86bb41408aceb28cd64f15e3fd84f9e801cacef190\n",
      "区块5 已经创建，交易是张三给李四了5个比特币\n",
      "区块的哈希是： 501ecd432afd8b234a93228803023e15723d07d1903adc90b88e3eded068739c\n",
      "区块6 已经创建，交易是张三给李四了6个比特币\n",
      "区块的哈希是： ce77bc5f738a3e86afe304de180d8bfbef13f416a56a6f47aef7f9460e50110f\n",
      "区块7 已经创建，交易是张三给李四了7个比特币\n",
      "区块的哈希是： a2f122679aef9a566b0011a200fd21626ac9116c7b76799e08c3c1a5e95ba851\n",
      "区块8 已经创建，交易是张三给李四了8个比特币\n",
      "区块的哈希是： 1d1a21d08b1f7e31dafd374b7439b5ebf45dedea77f62a772998584c0708c465\n",
      "区块9 已经创建，交易是张三给李四了9个比特币\n",
      "区块的哈希是： 5f50e0e9517bd64f59d40fcf5e83caaab251069d5b3492a857e3a448a830354c\n"
     ]
    }
   ],
   "source": [
    "block_number_need_to_generate=10\n",
    "blockchains=[Block.creat_gensis_block()]\n",
    "\n",
    "for i in range(1,block_number_need_to_generate):\n",
    "    transaction=\"张三给李四了{}个比特币\".format(i)\n",
    "    blockchains.append(Block(blockchains[i-1].hash,transaction,datetime.datetime.now()))\n",
    "    \n",
    "    print('区块{} 已经创建，交易是{}'.format(i,transaction))\n",
    "    print('区块的哈希是：',blockchains[i].hash)"
   ]
  },
  {
   "cell_type": "code",
   "execution_count": null,
   "metadata": {},
   "outputs": [],
   "source": []
  }
 ],
 "metadata": {
  "kernelspec": {
   "display_name": "Python 3",
   "language": "python",
   "name": "python3"
  },
  "language_info": {
   "codemirror_mode": {
    "name": "ipython",
    "version": 3
   },
   "file_extension": ".py",
   "mimetype": "text/x-python",
   "name": "python",
   "nbconvert_exporter": "python",
   "pygments_lexer": "ipython3",
   "version": "3.7.3"
  },
  "varInspector": {
   "cols": {
    "lenName": 16,
    "lenType": 16,
    "lenVar": 40
   },
   "kernels_config": {
    "python": {
     "delete_cmd_postfix": "",
     "delete_cmd_prefix": "del ",
     "library": "var_list.py",
     "varRefreshCmd": "print(var_dic_list())"
    },
    "r": {
     "delete_cmd_postfix": ") ",
     "delete_cmd_prefix": "rm(",
     "library": "var_list.r",
     "varRefreshCmd": "cat(var_dic_list()) "
    }
   },
   "types_to_exclude": [
    "module",
    "function",
    "builtin_function_or_method",
    "instance",
    "_Feature"
   ],
   "window_display": true
  }
 },
 "nbformat": 4,
 "nbformat_minor": 2
}
